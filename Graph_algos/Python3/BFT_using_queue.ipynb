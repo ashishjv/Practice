{
 "metadata": {
  "language_info": {
   "codemirror_mode": {
    "name": "ipython",
    "version": 3
   },
   "file_extension": ".py",
   "mimetype": "text/x-python",
   "name": "python",
   "nbconvert_exporter": "python",
   "pygments_lexer": "ipython3",
   "version": "3.7.3-final"
  },
  "orig_nbformat": 2,
  "kernelspec": {
   "name": "python_defaultSpec_1599568245065",
   "display_name": "Python 3.7.3 64-bit"
  }
 },
 "nbformat": 4,
 "nbformat_minor": 2,
 "cells": [
  {
   "cell_type": "code",
   "execution_count": 13,
   "metadata": {
    "tags": []
   },
   "outputs": [
    {
     "output_type": "stream",
     "name": "stdout",
     "text": "Level Order Traversal of Binary Tree\n1, 2, 3, 4, 5, 6, 7, 8, 9,"
    }
   ],
   "source": [
    "# Breadth First Search - Binary Tree\n",
    "\n",
    "class Node:\n",
    "    def __init__(self,key):\n",
    "        self.data = key\n",
    "        self.left = None\n",
    "        self.right = None\n",
    "\n",
    "def printLevelOrder(root):\n",
    "    if root is None:\n",
    "        print(\"There is nothing in the tree\")\n",
    "        return\n",
    "    \n",
    "    # initializing an empty array\n",
    "    queue = []\n",
    "\n",
    "    # Add root to queue\n",
    "    queue.append(root)\n",
    "\n",
    "    # The length of the queue is dynamic, since everytime a new node\n",
    "    # is poped, it's left and right is appended to the queue\n",
    "\n",
    "    while(len(queue)>0):\n",
    "        print(queue[0].data, end = \", \")\n",
    "        node = queue.pop(0)\n",
    "\n",
    "        # The poped node's left and right are appended to the queue in order\n",
    "        if node.left is not None:\n",
    "            queue.append(node.left)\n",
    "        \n",
    "        if node.right is not None:\n",
    "            queue.append(node.right)\n",
    "\n",
    "# Creating test data\n",
    "root = Node(1)\n",
    "root.left = Node(2)\n",
    "root.right = Node(3)\n",
    "root.left.left = Node(4)\n",
    "root.left.right = Node(5)\n",
    "root.right.left = Node(6)\n",
    "root.right.right = Node(7)\n",
    "root.right.right.left = Node(8)\n",
    "root.right.right.right = Node(9)\n",
    "\n",
    "# Test Run\n",
    "print(\"Level Order Traversal of Binary Tree\")\n",
    "printLevelOrder(root)\n"
   ]
  },
  {
   "cell_type": "code",
   "execution_count": null,
   "metadata": {},
   "outputs": [],
   "source": []
  }
 ]
}