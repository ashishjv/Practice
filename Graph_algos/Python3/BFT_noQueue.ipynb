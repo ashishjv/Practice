{
 "metadata": {
  "language_info": {
   "codemirror_mode": {
    "name": "ipython",
    "version": 3
   },
   "file_extension": ".py",
   "mimetype": "text/x-python",
   "name": "python",
   "nbconvert_exporter": "python",
   "pygments_lexer": "ipython3",
   "version": "3.7.3-final"
  },
  "orig_nbformat": 2,
  "kernelspec": {
   "name": "python_defaultSpec_1599568244904",
   "display_name": "Python 3.7.3 64-bit"
  }
 },
 "nbformat": 4,
 "nbformat_minor": 2,
 "cells": [
  {
   "cell_type": "code",
   "execution_count": 18,
   "metadata": {
    "tags": []
   },
   "outputs": [
    {
     "output_type": "stream",
     "name": "stdout",
     "text": "Breadth first traversal of Binary Tree\n\nThe height of the tree is :  4\n\nPrinting the node data in level order\n\nLevel =  1\n1 , \nLevel =  2\n2 , 3 , \nLevel =  3\n4 , 5 , 6 , 7 , \nLevel =  4\n8 , 9 ,"
    }
   ],
   "source": [
    "# Breadth First Traversal with No Queue\n",
    "\n",
    "class Node:\n",
    "    def __init__(self,key):\n",
    "        self.data = key\n",
    "        self.left = None\n",
    "        self.right = None\n",
    "\n",
    "def traverseBreadthFirst(root):\n",
    "    if root is None:\n",
    "        print(\"There is nothing in the tree\")\n",
    "        return\n",
    "\n",
    "    height = findHeight(root)\n",
    "    print(\"\\nThe height of the tree is : \" , height)\n",
    "    \n",
    "    print(\"\\nPrinting the node data in level order\")\n",
    "    # Python range function excludes the stop value\n",
    "    # i.e. height+1 in below usage\n",
    "    for level in range(1,height+1):\n",
    "        print(\"\\nLevel = \",level)\n",
    "        printLevelData(root,level)\n",
    "\n",
    "def printLevelData(root,level):\n",
    "    if root is None:\n",
    "        return\n",
    "    if level == 1:\n",
    "        print(root.data, end = \" , \")\n",
    "    elif level > 1:\n",
    "        printLevelData(root.left, level-1)\n",
    "        printLevelData(root.right, level-1)\n",
    "    \n",
    "def findHeight(root):\n",
    "   \n",
    "    # This function is called recursively\n",
    "    # When traversing left and right, the new root\n",
    "    # could be None, hence None check is needed again\n",
    "    if root is None:\n",
    "        return 0\n",
    "    \n",
    "    leftHeight = findHeight(root.left)\n",
    "    rightHeight = findHeight(root.right)\n",
    "\n",
    "    # To get to the deapth, the largest branch has to be traversed\n",
    "    if leftHeight > rightHeight:\n",
    "        return leftHeight + 1\n",
    "    else:\n",
    "        return rightHeight + 1\n",
    "\n",
    "# Creating test data\n",
    "root = Node(1)\n",
    "root.left = Node(2)\n",
    "root.right = Node(3)\n",
    "root.left.left = Node(4)\n",
    "root.left.right = Node(5)\n",
    "root.right.left = Node(6)\n",
    "root.right.right = Node(7)\n",
    "root.right.right.left = Node(8)\n",
    "root.right.right.right = Node(9)\n",
    "\n",
    "# Test Run\n",
    "print(\"Breadth first traversal of Binary Tree\")\n",
    "traverseBreadthFirst(root)"
   ]
  },
  {
   "cell_type": "code",
   "execution_count": null,
   "metadata": {},
   "outputs": [],
   "source": []
  }
 ]
}